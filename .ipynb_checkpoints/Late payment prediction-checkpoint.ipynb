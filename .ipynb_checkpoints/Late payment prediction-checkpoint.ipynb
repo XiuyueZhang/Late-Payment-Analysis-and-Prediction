{
 "cells": [
  {
   "cell_type": "markdown",
   "id": "2198b813",
   "metadata": {},
   "source": [
    "# Late repayment predict model"
   ]
  },
  {
   "cell_type": "markdown",
   "id": "c1c2d11f",
   "metadata": {},
   "source": [
    "### Data source: Kaggle： https://www.kaggle.com/c/GiveMeSomeCredit/overview"
   ]
  },
  {
   "cell_type": "markdown",
   "id": "04f88bab",
   "metadata": {},
   "source": [
    "### Import libraries"
   ]
  },
  {
   "cell_type": "code",
   "execution_count": 42,
   "id": "b337ee20",
   "metadata": {},
   "outputs": [],
   "source": [
    "import datetime\n",
    "import pandas as pd\n",
    "import numpy as np\n",
    "import seaborn as sns\n",
    "import matplotlib.pyplot as plt\n",
    "import warnings\n",
    "\n",
    "warnings.filterwarnings('always')\n",
    "warnings.filterwarnings('ignore')\n",
    "sns.set(style=\"darkgrid\")"
   ]
  },
  {
   "cell_type": "markdown",
   "id": "50c2f98a",
   "metadata": {},
   "source": [
    "### Import data"
   ]
  },
  {
   "cell_type": "code",
   "execution_count": 43,
   "id": "f581802d",
   "metadata": {},
   "outputs": [],
   "source": [
    "train = pd.read_csv('cs-training.csv')"
   ]
  },
  {
   "cell_type": "code",
   "execution_count": 44,
   "id": "a5cc331a",
   "metadata": {},
   "outputs": [
    {
     "data": {
      "text/html": [
       "<div>\n",
       "<style scoped>\n",
       "    .dataframe tbody tr th:only-of-type {\n",
       "        vertical-align: middle;\n",
       "    }\n",
       "\n",
       "    .dataframe tbody tr th {\n",
       "        vertical-align: top;\n",
       "    }\n",
       "\n",
       "    .dataframe thead th {\n",
       "        text-align: right;\n",
       "    }\n",
       "</style>\n",
       "<table border=\"1\" class=\"dataframe\">\n",
       "  <thead>\n",
       "    <tr style=\"text-align: right;\">\n",
       "      <th></th>\n",
       "      <th>Unnamed: 0</th>\n",
       "      <th>SeriousDlqin2yrs</th>\n",
       "      <th>RevolvingUtilizationOfUnsecuredLines</th>\n",
       "      <th>age</th>\n",
       "      <th>NumberOfTime30-59DaysPastDueNotWorse</th>\n",
       "      <th>DebtRatio</th>\n",
       "      <th>MonthlyIncome</th>\n",
       "      <th>NumberOfOpenCreditLinesAndLoans</th>\n",
       "      <th>NumberOfTimes90DaysLate</th>\n",
       "      <th>NumberRealEstateLoansOrLines</th>\n",
       "      <th>NumberOfTime60-89DaysPastDueNotWorse</th>\n",
       "      <th>NumberOfDependents</th>\n",
       "    </tr>\n",
       "  </thead>\n",
       "  <tbody>\n",
       "    <tr>\n",
       "      <th>0</th>\n",
       "      <td>1</td>\n",
       "      <td>1</td>\n",
       "      <td>0.766127</td>\n",
       "      <td>45</td>\n",
       "      <td>2</td>\n",
       "      <td>0.802982</td>\n",
       "      <td>9120.0</td>\n",
       "      <td>13</td>\n",
       "      <td>0</td>\n",
       "      <td>6</td>\n",
       "      <td>0</td>\n",
       "      <td>2.0</td>\n",
       "    </tr>\n",
       "    <tr>\n",
       "      <th>1</th>\n",
       "      <td>2</td>\n",
       "      <td>0</td>\n",
       "      <td>0.957151</td>\n",
       "      <td>40</td>\n",
       "      <td>0</td>\n",
       "      <td>0.121876</td>\n",
       "      <td>2600.0</td>\n",
       "      <td>4</td>\n",
       "      <td>0</td>\n",
       "      <td>0</td>\n",
       "      <td>0</td>\n",
       "      <td>1.0</td>\n",
       "    </tr>\n",
       "    <tr>\n",
       "      <th>2</th>\n",
       "      <td>3</td>\n",
       "      <td>0</td>\n",
       "      <td>0.658180</td>\n",
       "      <td>38</td>\n",
       "      <td>1</td>\n",
       "      <td>0.085113</td>\n",
       "      <td>3042.0</td>\n",
       "      <td>2</td>\n",
       "      <td>1</td>\n",
       "      <td>0</td>\n",
       "      <td>0</td>\n",
       "      <td>0.0</td>\n",
       "    </tr>\n",
       "    <tr>\n",
       "      <th>3</th>\n",
       "      <td>4</td>\n",
       "      <td>0</td>\n",
       "      <td>0.233810</td>\n",
       "      <td>30</td>\n",
       "      <td>0</td>\n",
       "      <td>0.036050</td>\n",
       "      <td>3300.0</td>\n",
       "      <td>5</td>\n",
       "      <td>0</td>\n",
       "      <td>0</td>\n",
       "      <td>0</td>\n",
       "      <td>0.0</td>\n",
       "    </tr>\n",
       "    <tr>\n",
       "      <th>4</th>\n",
       "      <td>5</td>\n",
       "      <td>0</td>\n",
       "      <td>0.907239</td>\n",
       "      <td>49</td>\n",
       "      <td>1</td>\n",
       "      <td>0.024926</td>\n",
       "      <td>63588.0</td>\n",
       "      <td>7</td>\n",
       "      <td>0</td>\n",
       "      <td>1</td>\n",
       "      <td>0</td>\n",
       "      <td>0.0</td>\n",
       "    </tr>\n",
       "  </tbody>\n",
       "</table>\n",
       "</div>"
      ],
      "text/plain": [
       "   Unnamed: 0  SeriousDlqin2yrs  RevolvingUtilizationOfUnsecuredLines  age  \\\n",
       "0           1                 1                              0.766127   45   \n",
       "1           2                 0                              0.957151   40   \n",
       "2           3                 0                              0.658180   38   \n",
       "3           4                 0                              0.233810   30   \n",
       "4           5                 0                              0.907239   49   \n",
       "\n",
       "   NumberOfTime30-59DaysPastDueNotWorse  DebtRatio  MonthlyIncome  \\\n",
       "0                                     2   0.802982         9120.0   \n",
       "1                                     0   0.121876         2600.0   \n",
       "2                                     1   0.085113         3042.0   \n",
       "3                                     0   0.036050         3300.0   \n",
       "4                                     1   0.024926        63588.0   \n",
       "\n",
       "   NumberOfOpenCreditLinesAndLoans  NumberOfTimes90DaysLate  \\\n",
       "0                               13                        0   \n",
       "1                                4                        0   \n",
       "2                                2                        1   \n",
       "3                                5                        0   \n",
       "4                                7                        0   \n",
       "\n",
       "   NumberRealEstateLoansOrLines  NumberOfTime60-89DaysPastDueNotWorse  \\\n",
       "0                             6                                     0   \n",
       "1                             0                                     0   \n",
       "2                             0                                     0   \n",
       "3                             0                                     0   \n",
       "4                             1                                     0   \n",
       "\n",
       "   NumberOfDependents  \n",
       "0                 2.0  \n",
       "1                 1.0  \n",
       "2                 0.0  \n",
       "3                 0.0  \n",
       "4                 0.0  "
      ]
     },
     "execution_count": 44,
     "metadata": {},
     "output_type": "execute_result"
    }
   ],
   "source": [
    "train.head()"
   ]
  },
  {
   "cell_type": "code",
   "execution_count": 45,
   "id": "17ccfd10",
   "metadata": {},
   "outputs": [],
   "source": [
    "train.drop(columns=[\"Unnamed: 0\"], inplace=True)"
   ]
  },
  {
   "cell_type": "markdown",
   "id": "183bae05",
   "metadata": {},
   "source": [
    "### EDA"
   ]
  },
  {
   "cell_type": "code",
   "execution_count": 46,
   "id": "86b2bc06",
   "metadata": {},
   "outputs": [
    {
     "data": {
      "text/plain": [
       "(150000, 11)"
      ]
     },
     "execution_count": 46,
     "metadata": {},
     "output_type": "execute_result"
    }
   ],
   "source": [
    "train.shape"
   ]
  },
  {
   "cell_type": "markdown",
   "id": "7c3469e5",
   "metadata": {},
   "source": [
    "#### Missing values"
   ]
  },
  {
   "cell_type": "code",
   "execution_count": 47,
   "id": "668e37cf",
   "metadata": {},
   "outputs": [
    {
     "data": {
      "text/plain": [
       "SeriousDlqin2yrs                            0\n",
       "RevolvingUtilizationOfUnsecuredLines        0\n",
       "age                                         0\n",
       "NumberOfTime30-59DaysPastDueNotWorse        0\n",
       "DebtRatio                                   0\n",
       "MonthlyIncome                           29731\n",
       "NumberOfOpenCreditLinesAndLoans             0\n",
       "NumberOfTimes90DaysLate                     0\n",
       "NumberRealEstateLoansOrLines                0\n",
       "NumberOfTime60-89DaysPastDueNotWorse        0\n",
       "NumberOfDependents                       3924\n",
       "dtype: int64"
      ]
     },
     "execution_count": 47,
     "metadata": {},
     "output_type": "execute_result"
    }
   ],
   "source": [
    "train.isnull().sum()"
   ]
  },
  {
   "cell_type": "markdown",
   "id": "df54b450",
   "metadata": {},
   "source": [
    "#### Duplicated values"
   ]
  },
  {
   "cell_type": "code",
   "execution_count": 48,
   "id": "dd7d7f20",
   "metadata": {},
   "outputs": [
    {
     "data": {
      "text/plain": [
       "609"
      ]
     },
     "execution_count": 48,
     "metadata": {},
     "output_type": "execute_result"
    }
   ],
   "source": [
    "train.duplicated().sum()"
   ]
  },
  {
   "cell_type": "markdown",
   "id": "789f31bb",
   "metadata": {},
   "source": [
    "#### Distibution"
   ]
  },
  {
   "cell_type": "code",
   "execution_count": 49,
   "id": "11926b07",
   "metadata": {},
   "outputs": [
    {
     "name": "stdout",
     "output_type": "stream",
     "text": [
      "<class 'pandas.core.frame.DataFrame'>\n",
      "RangeIndex: 150000 entries, 0 to 149999\n",
      "Data columns (total 11 columns):\n",
      " #   Column                                Non-Null Count   Dtype  \n",
      "---  ------                                --------------   -----  \n",
      " 0   SeriousDlqin2yrs                      150000 non-null  int64  \n",
      " 1   RevolvingUtilizationOfUnsecuredLines  150000 non-null  float64\n",
      " 2   age                                   150000 non-null  int64  \n",
      " 3   NumberOfTime30-59DaysPastDueNotWorse  150000 non-null  int64  \n",
      " 4   DebtRatio                             150000 non-null  float64\n",
      " 5   MonthlyIncome                         120269 non-null  float64\n",
      " 6   NumberOfOpenCreditLinesAndLoans       150000 non-null  int64  \n",
      " 7   NumberOfTimes90DaysLate               150000 non-null  int64  \n",
      " 8   NumberRealEstateLoansOrLines          150000 non-null  int64  \n",
      " 9   NumberOfTime60-89DaysPastDueNotWorse  150000 non-null  int64  \n",
      " 10  NumberOfDependents                    146076 non-null  float64\n",
      "dtypes: float64(4), int64(7)\n",
      "memory usage: 12.6 MB\n"
     ]
    }
   ],
   "source": [
    "train.info()"
   ]
  },
  {
   "cell_type": "markdown",
   "id": "876319f9",
   "metadata": {},
   "source": [
    "#### Covariance"
   ]
  },
  {
   "cell_type": "code",
   "execution_count": 50,
   "id": "4e821360",
   "metadata": {},
   "outputs": [
    {
     "data": {
      "image/png": "[encoded data removed]",
      "text/plain": [
       "<Figure size 720x720 with 2 Axes>"
      ]
     },
     "metadata": {},
     "output_type": "display_data"
    }
   ],
   "source": [
    "cor=train.corr()\n",
    "fig, ax = plt.subplots(figsize=(10, 10))\n",
    "sns.heatmap(cor, xticklabels=cor.columns, yticklabels=cor.columns, annot=True, ax=ax);"
   ]
  },
  {
   "cell_type": "markdown",
   "id": "f16ff82c",
   "metadata": {},
   "source": [
    "## Data Cleaning"
   ]
  },
  {
   "cell_type": "code",
   "execution_count": 51,
   "id": "d03ce9f6",
   "metadata": {},
   "outputs": [],
   "source": [
    "train_clean = train.copy()"
   ]
  },
  {
   "cell_type": "code",
   "execution_count": 52,
   "id": "933ae4cc",
   "metadata": {},
   "outputs": [],
   "source": [
    "# drop duplicates\n",
    "train_clean.drop_duplicates(inplace=True)"
   ]
  },
  {
   "cell_type": "markdown",
   "id": "e79bd24b",
   "metadata": {},
   "source": [
    "#### fillna with median"
   ]
  },
  {
   "cell_type": "code",
   "execution_count": 53,
   "id": "e3ef1e1f",
   "metadata": {},
   "outputs": [],
   "source": [
    "def fill_na(df):\n",
    "    na_list = [i for i in df.isnull().sum().index if df.isnull().sum()[i] > 0]\n",
    "    for n in na_list:\n",
    "        train_fillna = train_clean[n][train_clean[n].isna() == False]\n",
    "        train_clean[n].fillna(train_fillna.median(), inplace=True)"
   ]
  },
  {
   "cell_type": "code",
   "execution_count": 54,
   "id": "675637d4",
   "metadata": {},
   "outputs": [
    {
     "data": {
      "text/plain": [
       "SeriousDlqin2yrs                        0\n",
       "RevolvingUtilizationOfUnsecuredLines    0\n",
       "age                                     0\n",
       "NumberOfTime30-59DaysPastDueNotWorse    0\n",
       "DebtRatio                               0\n",
       "MonthlyIncome                           0\n",
       "NumberOfOpenCreditLinesAndLoans         0\n",
       "NumberOfTimes90DaysLate                 0\n",
       "NumberRealEstateLoansOrLines            0\n",
       "NumberOfTime60-89DaysPastDueNotWorse    0\n",
       "NumberOfDependents                      0\n",
       "dtype: int64"
      ]
     },
     "execution_count": 54,
     "metadata": {},
     "output_type": "execute_result"
    }
   ],
   "source": [
    "fill_na(train_clean)\n",
    "train_clean.isnull().sum()"
   ]
  },
  {
   "cell_type": "markdown",
   "id": "417a7aeb",
   "metadata": {},
   "source": [
    "#### distribution in age"
   ]
  },
  {
   "cell_type": "code",
   "execution_count": 55,
   "id": "daec1996",
   "metadata": {},
   "outputs": [
    {
     "data": {
      "image/png": "[encoded data removed]",
      "text/plain": [
       "<Figure size 1152x432 with 1 Axes>"
      ]
     },
     "metadata": {},
     "output_type": "display_data"
    }
   ],
   "source": [
    "plt.figure(figsize=(16, 6))\n",
    "sns.distplot(train_clean[\"age\"], color = \"black\");"
   ]
  },
  {
   "cell_type": "markdown",
   "id": "afbee9ff",
   "metadata": {},
   "source": [
    "#### Creater new column \"age_label for \"Binning - Age"
   ]
  },
  {
   "cell_type": "code",
   "execution_count": 56,
   "id": "f918b1d5",
   "metadata": {},
   "outputs": [],
   "source": [
    "train_clean[\"age_label\"] = pd.cut(train_clean[\"age\"], np.arange(20, 110, 10))"
   ]
  },
  {
   "cell_type": "code",
   "execution_count": 57,
   "id": "c40efb0a",
   "metadata": {},
   "outputs": [
    {
     "data": {
      "text/html": [
       "<div>\n",
       "<style scoped>\n",
       "    .dataframe tbody tr th:only-of-type {\n",
       "        vertical-align: middle;\n",
       "    }\n",
       "\n",
       "    .dataframe tbody tr th {\n",
       "        vertical-align: top;\n",
       "    }\n",
       "\n",
       "    .dataframe thead th {\n",
       "        text-align: right;\n",
       "    }\n",
       "</style>\n",
       "<table border=\"1\" class=\"dataframe\">\n",
       "  <thead>\n",
       "    <tr style=\"text-align: right;\">\n",
       "      <th></th>\n",
       "      <th>SeriousDlqin2yrs</th>\n",
       "      <th>RevolvingUtilizationOfUnsecuredLines</th>\n",
       "      <th>age</th>\n",
       "      <th>NumberOfTime30-59DaysPastDueNotWorse</th>\n",
       "      <th>DebtRatio</th>\n",
       "      <th>MonthlyIncome</th>\n",
       "      <th>NumberOfOpenCreditLinesAndLoans</th>\n",
       "      <th>NumberOfTimes90DaysLate</th>\n",
       "      <th>NumberRealEstateLoansOrLines</th>\n",
       "      <th>NumberOfTime60-89DaysPastDueNotWorse</th>\n",
       "      <th>NumberOfDependents</th>\n",
       "      <th>age_label</th>\n",
       "    </tr>\n",
       "  </thead>\n",
       "  <tbody>\n",
       "    <tr>\n",
       "      <th>0</th>\n",
       "      <td>1</td>\n",
       "      <td>0.766127</td>\n",
       "      <td>45</td>\n",
       "      <td>2</td>\n",
       "      <td>0.802982</td>\n",
       "      <td>9120.0</td>\n",
       "      <td>13</td>\n",
       "      <td>0</td>\n",
       "      <td>6</td>\n",
       "      <td>0</td>\n",
       "      <td>2.0</td>\n",
       "      <td>(40, 50]</td>\n",
       "    </tr>\n",
       "    <tr>\n",
       "      <th>1</th>\n",
       "      <td>0</td>\n",
       "      <td>0.957151</td>\n",
       "      <td>40</td>\n",
       "      <td>0</td>\n",
       "      <td>0.121876</td>\n",
       "      <td>2600.0</td>\n",
       "      <td>4</td>\n",
       "      <td>0</td>\n",
       "      <td>0</td>\n",
       "      <td>0</td>\n",
       "      <td>1.0</td>\n",
       "      <td>(30, 40]</td>\n",
       "    </tr>\n",
       "    <tr>\n",
       "      <th>2</th>\n",
       "      <td>0</td>\n",
       "      <td>0.658180</td>\n",
       "      <td>38</td>\n",
       "      <td>1</td>\n",
       "      <td>0.085113</td>\n",
       "      <td>3042.0</td>\n",
       "      <td>2</td>\n",
       "      <td>1</td>\n",
       "      <td>0</td>\n",
       "      <td>0</td>\n",
       "      <td>0.0</td>\n",
       "      <td>(30, 40]</td>\n",
       "    </tr>\n",
       "    <tr>\n",
       "      <th>3</th>\n",
       "      <td>0</td>\n",
       "      <td>0.233810</td>\n",
       "      <td>30</td>\n",
       "      <td>0</td>\n",
       "      <td>0.036050</td>\n",
       "      <td>3300.0</td>\n",
       "      <td>5</td>\n",
       "      <td>0</td>\n",
       "      <td>0</td>\n",
       "      <td>0</td>\n",
       "      <td>0.0</td>\n",
       "      <td>(20, 30]</td>\n",
       "    </tr>\n",
       "    <tr>\n",
       "      <th>4</th>\n",
       "      <td>0</td>\n",
       "      <td>0.907239</td>\n",
       "      <td>49</td>\n",
       "      <td>1</td>\n",
       "      <td>0.024926</td>\n",
       "      <td>63588.0</td>\n",
       "      <td>7</td>\n",
       "      <td>0</td>\n",
       "      <td>1</td>\n",
       "      <td>0</td>\n",
       "      <td>0.0</td>\n",
       "      <td>(40, 50]</td>\n",
       "    </tr>\n",
       "  </tbody>\n",
       "</table>\n",
       "</div>"
      ],
      "text/plain": [
       "   SeriousDlqin2yrs  RevolvingUtilizationOfUnsecuredLines  age  \\\n",
       "0                 1                              0.766127   45   \n",
       "1                 0                              0.957151   40   \n",
       "2                 0                              0.658180   38   \n",
       "3                 0                              0.233810   30   \n",
       "4                 0                              0.907239   49   \n",
       "\n",
       "   NumberOfTime30-59DaysPastDueNotWorse  DebtRatio  MonthlyIncome  \\\n",
       "0                                     2   0.802982         9120.0   \n",
       "1                                     0   0.121876         2600.0   \n",
       "2                                     1   0.085113         3042.0   \n",
       "3                                     0   0.036050         3300.0   \n",
       "4                                     1   0.024926        63588.0   \n",
       "\n",
       "   NumberOfOpenCreditLinesAndLoans  NumberOfTimes90DaysLate  \\\n",
       "0                               13                        0   \n",
       "1                                4                        0   \n",
       "2                                2                        1   \n",
       "3                                5                        0   \n",
       "4                                7                        0   \n",
       "\n",
       "   NumberRealEstateLoansOrLines  NumberOfTime60-89DaysPastDueNotWorse  \\\n",
       "0                             6                                     0   \n",
       "1                             0                                     0   \n",
       "2                             0                                     0   \n",
       "3                             0                                     0   \n",
       "4                             1                                     0   \n",
       "\n",
       "   NumberOfDependents age_label  \n",
       "0                 2.0  (40, 50]  \n",
       "1                 1.0  (30, 40]  \n",
       "2                 0.0  (30, 40]  \n",
       "3                 0.0  (20, 30]  \n",
       "4                 0.0  (40, 50]  "
      ]
     },
     "execution_count": 57,
     "metadata": {},
     "output_type": "execute_result"
    }
   ],
   "source": [
    "train_clean.head()"
   ]
  },
  {
   "cell_type": "markdown",
   "id": "ef80ac93",
   "metadata": {},
   "source": [
    "#### regrouping - Combining subgroups with too small samples or too close default rates"
   ]
  },
  {
   "cell_type": "code",
   "execution_count": 58,
   "id": "236834a2",
   "metadata": {},
   "outputs": [],
   "source": [
    "bins = [0, 30, 40, 50, 60, 70, 110]\n",
    "labels = ['0-29', '30-39', '40-49', '50-59', '60-69', '70+']\n",
    "train_clean['age_grouped'] = pd.cut(train_clean['age'], bins, right=0, labels=labels)\n",
    "train_clean.drop(columns=\"age\", inplace=True)"
   ]
  },
  {
   "cell_type": "code",
   "execution_count": 59,
   "id": "43697118",
   "metadata": {},
   "outputs": [],
   "source": [
    "def plot_age(col, fun):\n",
    "    data = pd.concat([train_clean[col], train_clean[\"age_label\"]], axis = 1)\n",
    "    if fun == \"s\":\n",
    "        df = data.groupby(\"age_label\")[col].sum()\n",
    "    elif fun == \"m\":\n",
    "        df = data.groupby(\"age_label\")[col].mean()\n",
    "\n",
    "    df.plot(kind=\"bar\", figsize=(16, 6))"
   ]
  },
  {
   "cell_type": "markdown",
   "id": "6f2863a0",
   "metadata": {},
   "source": [
    "#### Age and RevolvingUtilizationOfUnsecuredLines relationship"
   ]
  },
  {
   "cell_type": "code",
   "execution_count": 60,
   "id": "d5c6e76f",
   "metadata": {},
   "outputs": [
    {
     "data": {
      "image/png": "[encoded data removed]",
      "text/plain": [
       "<Figure size 1152x432 with 1 Axes>"
      ]
     },
     "metadata": {},
     "output_type": "display_data"
    }
   ],
   "source": [
    "plot_age(\"RevolvingUtilizationOfUnsecuredLines\", \"m\");"
   ]
  },
  {
   "cell_type": "markdown",
   "id": "a4002017",
   "metadata": {},
   "source": [
    "#### RevolvingUtilizationOfUnsecuredLines discretization"
   ]
  },
  {
   "cell_type": "code",
   "execution_count": 61,
   "id": "3d459177",
   "metadata": {},
   "outputs": [],
   "source": [
    "bins = [0, 0.15, 0.30, 0.45, 0.60, 0.75, 0.90, 1.05,\n",
    "        train_clean['RevolvingUtilizationOfUnsecuredLines'].max()*1.05]\n",
    "labels = [\n",
    "    '0-0.15',\n",
    "    '0.15-0.30',\n",
    "    '0.30-0.45',\n",
    "    '0.45-0.60',\n",
    "    '0.60-0.75',\n",
    "    '0.75-0.90',\n",
    "    '0.90-1.05',\n",
    "    '1.05+']\n",
    "\n",
    "train_clean['ru_grouped'] = pd.cut(train_clean['RevolvingUtilizationOfUnsecuredLines'],\n",
    "                                   bins, right=0, labels=labels)"
   ]
  },
  {
   "cell_type": "code",
   "execution_count": 62,
   "id": "7d730b81",
   "metadata": {},
   "outputs": [],
   "source": [
    "train_clean.drop(columns='ru_grouped', inplace=True)"
   ]
  },
  {
   "cell_type": "markdown",
   "id": "cc3fe08e",
   "metadata": {},
   "source": [
    "#### Outliers in DebitRatio"
   ]
  },
  {
   "cell_type": "code",
   "execution_count": 63,
   "id": "87f73906",
   "metadata": {},
   "outputs": [
    {
     "data": {
      "text/plain": [
       "<AxesSubplot:xlabel='DebtRatio', ylabel='Density'>"
      ]
     },
     "execution_count": 63,
     "metadata": {},
     "output_type": "execute_result"
    },
    {
     "data": {
      "image/png": "[encoded data removed]",
      "text/plain": [
       "<Figure size 1152x432 with 1 Axes>"
      ]
     },
     "metadata": {},
     "output_type": "display_data"
    }
   ],
   "source": [
    "plt.figure(figsize=(16, 6))\n",
    "sns.distplot(train_clean['DebtRatio'].apply(np.log1p), color=\"r\")"
   ]
  },
  {
   "cell_type": "markdown",
   "id": "653ab3ae",
   "metadata": {},
   "source": [
    "#### Normalization"
   ]
  },
  {
   "cell_type": "code",
   "execution_count": 64,
   "id": "795f330f",
   "metadata": {},
   "outputs": [
    {
     "data": {
      "image/png": "[encoded data removed]",
      "text/plain": [
       "<Figure size 1152x432 with 1 Axes>"
      ]
     },
     "metadata": {},
     "output_type": "display_data"
    }
   ],
   "source": [
    "train_clean[\"dr_log\"] = train_clean[\"DebtRatio\"].apply(np.log1p)\n",
    "train_clean.drop(columns=\"DebtRatio\", inplace=True)\n",
    "plot_age(\"dr_log\", \"m\")"
   ]
  },
  {
   "cell_type": "markdown",
   "id": "e16bd8f9",
   "metadata": {},
   "source": [
    "#### NumberOfOpenCreditLinesAndLoans Discretization"
   ]
  },
  {
   "cell_type": "code",
   "execution_count": 65,
   "id": "2215cd4f",
   "metadata": {},
   "outputs": [],
   "source": [
    "bins = [0, 2, 4, 6, 10, 14,\n",
    "       train_clean['NumberOfOpenCreditLinesAndLoans'].max()*1.05]\n",
    "labels = ['0-1', '2-3', '4-5', '6-9', '10-13', '14+']\n",
    "train_clean['num_oc_grouped'] = pd.cut(train_clean['NumberOfOpenCreditLinesAndLoans'], \\\n",
    "                                       bins, right=0, labels=labels)\n",
    "train_clean.drop(columns='NumberOfOpenCreditLinesAndLoans', inplace=True)"
   ]
  },
  {
   "cell_type": "markdown",
   "id": "874180b9",
   "metadata": {},
   "source": [
    "#### NumberOfDependents Discretization"
   ]
  },
  {
   "cell_type": "code",
   "execution_count": 66,
   "id": "d6f3490f",
   "metadata": {},
   "outputs": [],
   "source": [
    "bins = [0, 1, 2, 4, \n",
    "       train_clean['NumberOfDependents'].max()*1.05]\n",
    "labels = ['0', '1', '2-3', '4+']\n",
    "train_clean['num_dep_grouped'] = pd.cut(train_clean['NumberOfDependents'], \\\n",
    "                                        bins, right=0, labels=labels)\n",
    "train_clean.drop(columns='num_dep_grouped', inplace=True)"
   ]
  },
  {
   "cell_type": "markdown",
   "id": "dd45d0c9",
   "metadata": {},
   "source": [
    "#### Number of late payments in the past 2 years"
   ]
  },
  {
   "cell_type": "code",
   "execution_count": 67,
   "id": "7aecea8d",
   "metadata": {},
   "outputs": [
    {
     "data": {
      "image/png": "[encoded data removed]",
      "text/plain": [
       "<Figure size 1152x432 with 1 Axes>"
      ]
     },
     "metadata": {},
     "output_type": "display_data"
    }
   ],
   "source": [
    "PastDueNotWorse = [i for i in train_clean.columns if \"NumberOfTime\" in i]\n",
    "plot_age(PastDueNotWorse, fun = \"m\")"
   ]
  },
  {
   "cell_type": "markdown",
   "id": "ff8b7102",
   "metadata": {},
   "source": [
    "#### Verify the clear linear relationship seen in the heat map"
   ]
  },
  {
   "cell_type": "code",
   "execution_count": 68,
   "id": "a38a3333",
   "metadata": {},
   "outputs": [
    {
     "data": {
      "text/html": [
       "<div>\n",
       "<style scoped>\n",
       "    .dataframe tbody tr th:only-of-type {\n",
       "        vertical-align: middle;\n",
       "    }\n",
       "\n",
       "    .dataframe tbody tr th {\n",
       "        vertical-align: top;\n",
       "    }\n",
       "\n",
       "    .dataframe thead th {\n",
       "        text-align: right;\n",
       "    }\n",
       "</style>\n",
       "<table border=\"1\" class=\"dataframe\">\n",
       "  <thead>\n",
       "    <tr style=\"text-align: right;\">\n",
       "      <th></th>\n",
       "      <th>NumberOfTime30-59DaysPastDueNotWorse</th>\n",
       "      <th>NumberOfTimes90DaysLate</th>\n",
       "      <th>NumberOfTime60-89DaysPastDueNotWorse</th>\n",
       "    </tr>\n",
       "  </thead>\n",
       "  <tbody>\n",
       "    <tr>\n",
       "      <th>NumberOfTime30-59DaysPastDueNotWorse</th>\n",
       "      <td>1.000000</td>\n",
       "      <td>0.980489</td>\n",
       "      <td>0.984535</td>\n",
       "    </tr>\n",
       "    <tr>\n",
       "      <th>NumberOfTimes90DaysLate</th>\n",
       "      <td>0.980489</td>\n",
       "      <td>1.000000</td>\n",
       "      <td>0.991409</td>\n",
       "    </tr>\n",
       "    <tr>\n",
       "      <th>NumberOfTime60-89DaysPastDueNotWorse</th>\n",
       "      <td>0.984535</td>\n",
       "      <td>0.991409</td>\n",
       "      <td>1.000000</td>\n",
       "    </tr>\n",
       "  </tbody>\n",
       "</table>\n",
       "</div>"
      ],
      "text/plain": [
       "                                      NumberOfTime30-59DaysPastDueNotWorse  \\\n",
       "NumberOfTime30-59DaysPastDueNotWorse                              1.000000   \n",
       "NumberOfTimes90DaysLate                                           0.980489   \n",
       "NumberOfTime60-89DaysPastDueNotWorse                              0.984535   \n",
       "\n",
       "                                      NumberOfTimes90DaysLate  \\\n",
       "NumberOfTime30-59DaysPastDueNotWorse                 0.980489   \n",
       "NumberOfTimes90DaysLate                              1.000000   \n",
       "NumberOfTime60-89DaysPastDueNotWorse                 0.991409   \n",
       "\n",
       "                                      NumberOfTime60-89DaysPastDueNotWorse  \n",
       "NumberOfTime30-59DaysPastDueNotWorse                              0.984535  \n",
       "NumberOfTimes90DaysLate                                           0.991409  \n",
       "NumberOfTime60-89DaysPastDueNotWorse                              1.000000  "
      ]
     },
     "execution_count": 68,
     "metadata": {},
     "output_type": "execute_result"
    }
   ],
   "source": [
    "cor = train_clean[PastDueNotWorse].corr()\n",
    "cor"
   ]
  },
  {
   "cell_type": "code",
   "execution_count": 69,
   "id": "d601c352",
   "metadata": {},
   "outputs": [],
   "source": [
    "# remain one column\n",
    "train_clean.drop(columns=[\"NumberOfTime30-59DaysPastDueNotWorse\", \\\n",
    "                          \"NumberOfTime60-89DaysPastDueNotWorse\"], inplace=True)"
   ]
  },
  {
   "cell_type": "markdown",
   "id": "48344f46",
   "metadata": {},
   "source": [
    "#### Late payment and Age"
   ]
  },
  {
   "cell_type": "code",
   "execution_count": 70,
   "id": "14c0f20e",
   "metadata": {},
   "outputs": [
    {
     "data": {
      "text/plain": [
       "<AxesSubplot:xlabel='age_label', ylabel='count'>"
      ]
     },
     "execution_count": 70,
     "metadata": {},
     "output_type": "execute_result"
    },
    {
     "data": {
      "image/png": "[encoded data removed]",
      "text/plain": [
       "<Figure size 1152x432 with 1 Axes>"
      ]
     },
     "metadata": {},
     "output_type": "display_data"
    }
   ],
   "source": [
    "plt.figure(figsize=(16, 6))\n",
    "sns.countplot(data=train_clean, x=\"age_label\", hue=\"SeriousDlqin2yrs\")"
   ]
  },
  {
   "cell_type": "code",
   "execution_count": 71,
   "id": "bac1925b",
   "metadata": {},
   "outputs": [],
   "source": [
    "# Normalization for late payemnt\n",
    "train_clean['income_log'] = (train_clean['MonthlyIncome']/10000).apply(np.log1p)\n",
    "train_clean.drop(columns=['MonthlyIncome','age_label'], inplace=True)"
   ]
  },
  {
   "cell_type": "markdown",
   "id": "99a36edc",
   "metadata": {},
   "source": [
    "## Train Model"
   ]
  },
  {
   "cell_type": "code",
   "execution_count": 72,
   "id": "8b800e3c",
   "metadata": {},
   "outputs": [],
   "source": [
    "from sklearn.model_selection import train_test_split, GridSearchCV\n",
    "from sklearn.linear_model import LogisticRegression"
   ]
  },
  {
   "cell_type": "markdown",
   "id": "ff148e98",
   "metadata": {},
   "source": [
    "### LogisticRegreesion"
   ]
  },
  {
   "cell_type": "code",
   "execution_count": 73,
   "id": "f65f9406",
   "metadata": {},
   "outputs": [],
   "source": [
    "attributes = train_clean.columns.drop(['SeriousDlqin2yrs'])\n",
    "sol = ['SeriousDlqin2yrs']\n",
    "df = pd.get_dummies(train_clean, drop_first=True)\n",
    "X = pd.get_dummies(train_clean[attributes], drop_first=True)\n",
    "y = train_clean[sol]\n",
    "\n",
    "X_train, X_valid, y_train, y_valid = train_test_split(\n",
    "    X, y, test_size=0.25, shuffle=True)"
   ]
  },
  {
   "cell_type": "code",
   "execution_count": 74,
   "id": "64d11091",
   "metadata": {},
   "outputs": [
    {
     "data": {
      "text/html": [
       "<div>\n",
       "<style scoped>\n",
       "    .dataframe tbody tr th:only-of-type {\n",
       "        vertical-align: middle;\n",
       "    }\n",
       "\n",
       "    .dataframe tbody tr th {\n",
       "        vertical-align: top;\n",
       "    }\n",
       "\n",
       "    .dataframe thead th {\n",
       "        text-align: right;\n",
       "    }\n",
       "</style>\n",
       "<table border=\"1\" class=\"dataframe\">\n",
       "  <thead>\n",
       "    <tr style=\"text-align: right;\">\n",
       "      <th></th>\n",
       "      <th>RevolvingUtilizationOfUnsecuredLines</th>\n",
       "      <th>NumberOfTimes90DaysLate</th>\n",
       "      <th>NumberRealEstateLoansOrLines</th>\n",
       "      <th>NumberOfDependents</th>\n",
       "      <th>dr_log</th>\n",
       "      <th>income_log</th>\n",
       "      <th>age_grouped_30-39</th>\n",
       "      <th>age_grouped_40-49</th>\n",
       "      <th>age_grouped_50-59</th>\n",
       "      <th>age_grouped_60-69</th>\n",
       "      <th>age_grouped_70+</th>\n",
       "      <th>num_oc_grouped_2-3</th>\n",
       "      <th>num_oc_grouped_4-5</th>\n",
       "      <th>num_oc_grouped_6-9</th>\n",
       "      <th>num_oc_grouped_10-13</th>\n",
       "      <th>num_oc_grouped_14+</th>\n",
       "    </tr>\n",
       "  </thead>\n",
       "  <tbody>\n",
       "    <tr>\n",
       "      <th>91748</th>\n",
       "      <td>0.143109</td>\n",
       "      <td>0</td>\n",
       "      <td>1</td>\n",
       "      <td>0.0</td>\n",
       "      <td>0.736516</td>\n",
       "      <td>0.371564</td>\n",
       "      <td>1</td>\n",
       "      <td>0</td>\n",
       "      <td>0</td>\n",
       "      <td>0</td>\n",
       "      <td>0</td>\n",
       "      <td>1</td>\n",
       "      <td>0</td>\n",
       "      <td>0</td>\n",
       "      <td>0</td>\n",
       "      <td>0</td>\n",
       "    </tr>\n",
       "    <tr>\n",
       "      <th>123249</th>\n",
       "      <td>0.970904</td>\n",
       "      <td>0</td>\n",
       "      <td>2</td>\n",
       "      <td>1.0</td>\n",
       "      <td>0.604837</td>\n",
       "      <td>0.384582</td>\n",
       "      <td>0</td>\n",
       "      <td>1</td>\n",
       "      <td>0</td>\n",
       "      <td>0</td>\n",
       "      <td>0</td>\n",
       "      <td>0</td>\n",
       "      <td>0</td>\n",
       "      <td>0</td>\n",
       "      <td>1</td>\n",
       "      <td>0</td>\n",
       "    </tr>\n",
       "    <tr>\n",
       "      <th>108274</th>\n",
       "      <td>0.998148</td>\n",
       "      <td>0</td>\n",
       "      <td>3</td>\n",
       "      <td>3.0</td>\n",
       "      <td>0.512537</td>\n",
       "      <td>0.544647</td>\n",
       "      <td>0</td>\n",
       "      <td>0</td>\n",
       "      <td>1</td>\n",
       "      <td>0</td>\n",
       "      <td>0</td>\n",
       "      <td>0</td>\n",
       "      <td>0</td>\n",
       "      <td>1</td>\n",
       "      <td>0</td>\n",
       "      <td>0</td>\n",
       "    </tr>\n",
       "    <tr>\n",
       "      <th>97892</th>\n",
       "      <td>0.872222</td>\n",
       "      <td>0</td>\n",
       "      <td>2</td>\n",
       "      <td>0.0</td>\n",
       "      <td>0.352016</td>\n",
       "      <td>0.562469</td>\n",
       "      <td>0</td>\n",
       "      <td>0</td>\n",
       "      <td>1</td>\n",
       "      <td>0</td>\n",
       "      <td>0</td>\n",
       "      <td>0</td>\n",
       "      <td>1</td>\n",
       "      <td>0</td>\n",
       "      <td>0</td>\n",
       "      <td>0</td>\n",
       "    </tr>\n",
       "    <tr>\n",
       "      <th>65577</th>\n",
       "      <td>1.000000</td>\n",
       "      <td>98</td>\n",
       "      <td>0</td>\n",
       "      <td>0.0</td>\n",
       "      <td>0.000000</td>\n",
       "      <td>0.262364</td>\n",
       "      <td>0</td>\n",
       "      <td>0</td>\n",
       "      <td>0</td>\n",
       "      <td>0</td>\n",
       "      <td>0</td>\n",
       "      <td>0</td>\n",
       "      <td>0</td>\n",
       "      <td>0</td>\n",
       "      <td>0</td>\n",
       "      <td>0</td>\n",
       "    </tr>\n",
       "  </tbody>\n",
       "</table>\n",
       "</div>"
      ],
      "text/plain": [
       "        RevolvingUtilizationOfUnsecuredLines  NumberOfTimes90DaysLate  \\\n",
       "91748                               0.143109                        0   \n",
       "123249                              0.970904                        0   \n",
       "108274                              0.998148                        0   \n",
       "97892                               0.872222                        0   \n",
       "65577                               1.000000                       98   \n",
       "\n",
       "        NumberRealEstateLoansOrLines  NumberOfDependents    dr_log  \\\n",
       "91748                              1                 0.0  0.736516   \n",
       "123249                             2                 1.0  0.604837   \n",
       "108274                             3                 3.0  0.512537   \n",
       "97892                              2                 0.0  0.352016   \n",
       "65577                              0                 0.0  0.000000   \n",
       "\n",
       "        income_log  age_grouped_30-39  age_grouped_40-49  age_grouped_50-59  \\\n",
       "91748     0.371564                  1                  0                  0   \n",
       "123249    0.384582                  0                  1                  0   \n",
       "108274    0.544647                  0                  0                  1   \n",
       "97892     0.562469                  0                  0                  1   \n",
       "65577     0.262364                  0                  0                  0   \n",
       "\n",
       "        age_grouped_60-69  age_grouped_70+  num_oc_grouped_2-3  \\\n",
       "91748                   0                0                   1   \n",
       "123249                  0                0                   0   \n",
       "108274                  0                0                   0   \n",
       "97892                   0                0                   0   \n",
       "65577                   0                0                   0   \n",
       "\n",
       "        num_oc_grouped_4-5  num_oc_grouped_6-9  num_oc_grouped_10-13  \\\n",
       "91748                    0                   0                     0   \n",
       "123249                   0                   0                     1   \n",
       "108274                   0                   1                     0   \n",
       "97892                    1                   0                     0   \n",
       "65577                    0                   0                     0   \n",
       "\n",
       "        num_oc_grouped_14+  \n",
       "91748                    0  \n",
       "123249                   0  \n",
       "108274                   0  \n",
       "97892                    0  \n",
       "65577                    0  "
      ]
     },
     "execution_count": 74,
     "metadata": {},
     "output_type": "execute_result"
    }
   ],
   "source": [
    "X_train.head()"
   ]
  },
  {
   "cell_type": "code",
   "execution_count": 75,
   "id": "7b55cdda",
   "metadata": {},
   "outputs": [],
   "source": [
    "# get score function\n",
    "def plot_est_score(Range):\n",
    "    score_list = pd.DataFrame({}, index=np.arange(\n",
    "        Range.shape[0]+1), columns=[[\"train_score\", \"test_score\"]])\n",
    "    for i in Range:\n",
    "        lg = LogisticRegression(C=i, solver='lbfgs')\n",
    "        pred = lg.fit(X_train, y_train).predict(X_valid)\n",
    "        ascore = lg.score(X_train, y_train)\n",
    "        fscore = lg.score(X_valid, y_valid)\n",
    "        score_list.loc[i-1, \"train_score\"] = ascore\n",
    "        score_list.loc[i-1, \"test_score\"] = fscore\n",
    "    score_list.dropna(inplace=True)\n",
    "    score_max = score_list.max()\n",
    "    score_max_index = score_list[score_list == score_list.max()].dropna().index[0]\n",
    "    print(\n",
    "        \"C={}\\nmax =\\n{}\".format(\n",
    "            score_max_index+1,\n",
    "            score_max))\n",
    "    score_list.plot(figsize=(16, 4))"
   ]
  },
  {
   "cell_type": "code",
   "execution_count": 76,
   "id": "4bdb128d",
   "metadata": {
    "scrolled": true
   },
   "outputs": [
    {
     "name": "stdout",
     "output_type": "stream",
     "text": [
      "C=0.010000000000000009\n",
      "max =\n",
      "train_score    0.933347\n",
      "test_score     0.933223\n",
      "dtype: object\n"
     ]
    },
    {
     "data": {
      "image/png": "[encoded data removed]",
      "text/plain": [
       "<Figure size 1152x288 with 1 Axes>"
      ]
     },
     "metadata": {},
     "output_type": "display_data"
    }
   ],
   "source": [
    "plot_est_score(np.array([0.01, 0.03, 0.1, 0.3, 1, 3, 10]))"
   ]
  },
  {
   "cell_type": "markdown",
   "id": "b7e1553b",
   "metadata": {},
   "source": [
    "#### GrivSearch for best C & solver"
   ]
  },
  {
   "cell_type": "code",
   "execution_count": 77,
   "id": "c17a5128",
   "metadata": {},
   "outputs": [
    {
     "data": {
      "text/plain": [
       "{'C': 0.01, 'solver': 'lbfgs'}"
      ]
     },
     "execution_count": 77,
     "metadata": {},
     "output_type": "execute_result"
    }
   ],
   "source": [
    "params_LR = {'C': [0.01, 0.03, 0.1, 0.3, 1, 3, 10],\n",
    "            'solver': ['lbfgs', 'liblinear']}\n",
    "gs = GridSearchCV(LogisticRegression(max_iter=1000), \n",
    "                  param_grid = params_LR,\n",
    "                  scoring = 'f1',\n",
    "                  cv=5).fit(X_train, y_train)\n",
    "gs.best_params_"
   ]
  },
  {
   "cell_type": "markdown",
   "id": "3450be38",
   "metadata": {},
   "source": [
    "#### Get Prediction on validation data"
   ]
  },
  {
   "cell_type": "code",
   "execution_count": 78,
   "id": "612475e9",
   "metadata": {},
   "outputs": [
    {
     "name": "stdout",
     "output_type": "stream",
     "text": [
      "train Score: 0.933347\n",
      "valid Score: 0.933223\n"
     ]
    }
   ],
   "source": [
    "model_lr = LogisticRegression(C=gs.best_params_['C'], solver=gs.best_params_['solver']).fit(X_train, y_train)\n",
    "print('train Score: %.6f' % model_lr.score(X_train, y_train))\n",
    "print('valid Score: %.6f' %  model_lr.score(X_valid, y_valid))"
   ]
  },
  {
   "cell_type": "code",
   "execution_count": 79,
   "id": "d59fe9e3",
   "metadata": {},
   "outputs": [
    {
     "data": {
      "text/plain": [
       "array([-1.47335013e-04,  3.80907959e-02,  3.91859430e-02,  9.61872240e-02,\n",
       "       -1.44851315e-02, -7.64242174e-01,  2.14744671e-01,  4.31263996e-02,\n",
       "       -1.71717463e-01, -7.02199091e-01, -9.42422212e-01, -1.68468379e-01,\n",
       "       -3.99915835e-01, -5.73899026e-01, -4.48835884e-01, -2.11199533e-01])"
      ]
     },
     "execution_count": 79,
     "metadata": {},
     "output_type": "execute_result"
    }
   ],
   "source": [
    "model_lr.coef_.T.ravel()"
   ]
  },
  {
   "cell_type": "code",
   "execution_count": 82,
   "id": "54d07f16",
   "metadata": {},
   "outputs": [
    {
     "data": {
      "text/html": [
       "<div>\n",
       "<style scoped>\n",
       "    .dataframe tbody tr th:only-of-type {\n",
       "        vertical-align: middle;\n",
       "    }\n",
       "\n",
       "    .dataframe tbody tr th {\n",
       "        vertical-align: top;\n",
       "    }\n",
       "\n",
       "    .dataframe thead th {\n",
       "        text-align: right;\n",
       "    }\n",
       "</style>\n",
       "<table border=\"1\" class=\"dataframe\">\n",
       "  <thead>\n",
       "    <tr style=\"text-align: right;\">\n",
       "      <th></th>\n",
       "      <th>0</th>\n",
       "      <th>1</th>\n",
       "    </tr>\n",
       "  </thead>\n",
       "  <tbody>\n",
       "    <tr>\n",
       "      <th>0</th>\n",
       "      <td>RevolvingUtilizationOfUnsecuredLines</td>\n",
       "      <td>-0.000147</td>\n",
       "    </tr>\n",
       "    <tr>\n",
       "      <th>1</th>\n",
       "      <td>NumberOfTimes90DaysLate</td>\n",
       "      <td>0.038091</td>\n",
       "    </tr>\n",
       "    <tr>\n",
       "      <th>2</th>\n",
       "      <td>NumberRealEstateLoansOrLines</td>\n",
       "      <td>0.039186</td>\n",
       "    </tr>\n",
       "    <tr>\n",
       "      <th>3</th>\n",
       "      <td>NumberOfDependents</td>\n",
       "      <td>0.096187</td>\n",
       "    </tr>\n",
       "    <tr>\n",
       "      <th>4</th>\n",
       "      <td>dr_log</td>\n",
       "      <td>-0.014485</td>\n",
       "    </tr>\n",
       "    <tr>\n",
       "      <th>5</th>\n",
       "      <td>income_log</td>\n",
       "      <td>-0.764242</td>\n",
       "    </tr>\n",
       "    <tr>\n",
       "      <th>6</th>\n",
       "      <td>age_grouped_30-39</td>\n",
       "      <td>0.214745</td>\n",
       "    </tr>\n",
       "    <tr>\n",
       "      <th>7</th>\n",
       "      <td>age_grouped_40-49</td>\n",
       "      <td>0.043126</td>\n",
       "    </tr>\n",
       "    <tr>\n",
       "      <th>8</th>\n",
       "      <td>age_grouped_50-59</td>\n",
       "      <td>-0.171717</td>\n",
       "    </tr>\n",
       "    <tr>\n",
       "      <th>9</th>\n",
       "      <td>age_grouped_60-69</td>\n",
       "      <td>-0.702199</td>\n",
       "    </tr>\n",
       "    <tr>\n",
       "      <th>10</th>\n",
       "      <td>age_grouped_70+</td>\n",
       "      <td>-0.942422</td>\n",
       "    </tr>\n",
       "    <tr>\n",
       "      <th>11</th>\n",
       "      <td>num_oc_grouped_2-3</td>\n",
       "      <td>-0.168468</td>\n",
       "    </tr>\n",
       "    <tr>\n",
       "      <th>12</th>\n",
       "      <td>num_oc_grouped_4-5</td>\n",
       "      <td>-0.399916</td>\n",
       "    </tr>\n",
       "    <tr>\n",
       "      <th>13</th>\n",
       "      <td>num_oc_grouped_6-9</td>\n",
       "      <td>-0.573899</td>\n",
       "    </tr>\n",
       "    <tr>\n",
       "      <th>14</th>\n",
       "      <td>num_oc_grouped_10-13</td>\n",
       "      <td>-0.448836</td>\n",
       "    </tr>\n",
       "    <tr>\n",
       "      <th>15</th>\n",
       "      <td>num_oc_grouped_14+</td>\n",
       "      <td>-0.2112</td>\n",
       "    </tr>\n",
       "  </tbody>\n",
       "</table>\n",
       "</div>"
      ],
      "text/plain": [
       "                                       0         1\n",
       "0   RevolvingUtilizationOfUnsecuredLines -0.000147\n",
       "1                NumberOfTimes90DaysLate  0.038091\n",
       "2           NumberRealEstateLoansOrLines  0.039186\n",
       "3                     NumberOfDependents  0.096187\n",
       "4                                 dr_log -0.014485\n",
       "5                             income_log -0.764242\n",
       "6                      age_grouped_30-39  0.214745\n",
       "7                      age_grouped_40-49  0.043126\n",
       "8                      age_grouped_50-59 -0.171717\n",
       "9                      age_grouped_60-69 -0.702199\n",
       "10                       age_grouped_70+ -0.942422\n",
       "11                    num_oc_grouped_2-3 -0.168468\n",
       "12                    num_oc_grouped_4-5 -0.399916\n",
       "13                    num_oc_grouped_6-9 -0.573899\n",
       "14                  num_oc_grouped_10-13 -0.448836\n",
       "15                    num_oc_grouped_14+   -0.2112"
      ]
     },
     "execution_count": 82,
     "metadata": {},
     "output_type": "execute_result"
    }
   ],
   "source": [
    "coeff = pd.DataFrame([X_train.columns.tolist(),  model_lr.coef_.T.ravel()]).T\n",
    "coeff"
   ]
  },
  {
   "cell_type": "markdown",
   "id": "55617525",
   "metadata": {},
   "source": [
    "#### Most important features"
   ]
  },
  {
   "cell_type": "code",
   "execution_count": 83,
   "id": "963a7a9f",
   "metadata": {},
   "outputs": [
    {
     "data": {
      "text/html": [
       "<div>\n",
       "<style scoped>\n",
       "    .dataframe tbody tr th:only-of-type {\n",
       "        vertical-align: middle;\n",
       "    }\n",
       "\n",
       "    .dataframe tbody tr th {\n",
       "        vertical-align: top;\n",
       "    }\n",
       "\n",
       "    .dataframe thead th {\n",
       "        text-align: right;\n",
       "    }\n",
       "</style>\n",
       "<table border=\"1\" class=\"dataframe\">\n",
       "  <thead>\n",
       "    <tr style=\"text-align: right;\">\n",
       "      <th></th>\n",
       "      <th>features</th>\n",
       "      <th>coef</th>\n",
       "    </tr>\n",
       "  </thead>\n",
       "  <tbody>\n",
       "    <tr>\n",
       "      <th>10</th>\n",
       "      <td>age_grouped_70+</td>\n",
       "      <td>-0.942422</td>\n",
       "    </tr>\n",
       "    <tr>\n",
       "      <th>5</th>\n",
       "      <td>income_log</td>\n",
       "      <td>-0.764242</td>\n",
       "    </tr>\n",
       "    <tr>\n",
       "      <th>9</th>\n",
       "      <td>age_grouped_60-69</td>\n",
       "      <td>-0.702199</td>\n",
       "    </tr>\n",
       "    <tr>\n",
       "      <th>13</th>\n",
       "      <td>num_oc_grouped_6-9</td>\n",
       "      <td>-0.573899</td>\n",
       "    </tr>\n",
       "    <tr>\n",
       "      <th>14</th>\n",
       "      <td>num_oc_grouped_10-13</td>\n",
       "      <td>-0.448836</td>\n",
       "    </tr>\n",
       "    <tr>\n",
       "      <th>12</th>\n",
       "      <td>num_oc_grouped_4-5</td>\n",
       "      <td>-0.399916</td>\n",
       "    </tr>\n",
       "    <tr>\n",
       "      <th>15</th>\n",
       "      <td>num_oc_grouped_14+</td>\n",
       "      <td>-0.2112</td>\n",
       "    </tr>\n",
       "    <tr>\n",
       "      <th>8</th>\n",
       "      <td>age_grouped_50-59</td>\n",
       "      <td>-0.171717</td>\n",
       "    </tr>\n",
       "    <tr>\n",
       "      <th>11</th>\n",
       "      <td>num_oc_grouped_2-3</td>\n",
       "      <td>-0.168468</td>\n",
       "    </tr>\n",
       "    <tr>\n",
       "      <th>4</th>\n",
       "      <td>dr_log</td>\n",
       "      <td>-0.014485</td>\n",
       "    </tr>\n",
       "    <tr>\n",
       "      <th>0</th>\n",
       "      <td>RevolvingUtilizationOfUnsecuredLines</td>\n",
       "      <td>-0.000147</td>\n",
       "    </tr>\n",
       "    <tr>\n",
       "      <th>1</th>\n",
       "      <td>NumberOfTimes90DaysLate</td>\n",
       "      <td>0.038091</td>\n",
       "    </tr>\n",
       "    <tr>\n",
       "      <th>2</th>\n",
       "      <td>NumberRealEstateLoansOrLines</td>\n",
       "      <td>0.039186</td>\n",
       "    </tr>\n",
       "    <tr>\n",
       "      <th>7</th>\n",
       "      <td>age_grouped_40-49</td>\n",
       "      <td>0.043126</td>\n",
       "    </tr>\n",
       "    <tr>\n",
       "      <th>3</th>\n",
       "      <td>NumberOfDependents</td>\n",
       "      <td>0.096187</td>\n",
       "    </tr>\n",
       "    <tr>\n",
       "      <th>6</th>\n",
       "      <td>age_grouped_30-39</td>\n",
       "      <td>0.214745</td>\n",
       "    </tr>\n",
       "  </tbody>\n",
       "</table>\n",
       "</div>"
      ],
      "text/plain": [
       "                                features      coef\n",
       "10                       age_grouped_70+ -0.942422\n",
       "5                             income_log -0.764242\n",
       "9                      age_grouped_60-69 -0.702199\n",
       "13                    num_oc_grouped_6-9 -0.573899\n",
       "14                  num_oc_grouped_10-13 -0.448836\n",
       "12                    num_oc_grouped_4-5 -0.399916\n",
       "15                    num_oc_grouped_14+   -0.2112\n",
       "8                      age_grouped_50-59 -0.171717\n",
       "11                    num_oc_grouped_2-3 -0.168468\n",
       "4                                 dr_log -0.014485\n",
       "0   RevolvingUtilizationOfUnsecuredLines -0.000147\n",
       "1                NumberOfTimes90DaysLate  0.038091\n",
       "2           NumberRealEstateLoansOrLines  0.039186\n",
       "7                      age_grouped_40-49  0.043126\n",
       "3                     NumberOfDependents  0.096187\n",
       "6                      age_grouped_30-39  0.214745"
      ]
     },
     "execution_count": 83,
     "metadata": {},
     "output_type": "execute_result"
    }
   ],
   "source": [
    "coeff.columns = ['features','coef']\n",
    "coeff.sort_values(by='coef') "
   ]
  },
  {
   "cell_type": "markdown",
   "id": "63dbf89f",
   "metadata": {},
   "source": [
    "#### Findings"
   ]
  },
  {
   "cell_type": "code",
   "execution_count": null,
   "id": "277782da",
   "metadata": {},
   "outputs": [],
   "source": [
    "#The FEATURES that contributed most to the model are: \n",
    "#    income, age, and whether there have other outstanding debts."
   ]
  },
  {
   "cell_type": "markdown",
   "id": "2c25fe87",
   "metadata": {},
   "source": [
    "## Random Forest"
   ]
  },
  {
   "cell_type": "code",
   "execution_count": 92,
   "id": "d5cef5a9",
   "metadata": {},
   "outputs": [],
   "source": [
    "from sklearn.ensemble import RandomForestClassifier\n",
    "from sklearn.model_selection import cross_val_score"
   ]
  },
  {
   "cell_type": "markdown",
   "id": "d67f9f3e",
   "metadata": {},
   "source": [
    "#### Plotting the learning curve"
   ]
  },
  {
   "cell_type": "code",
   "execution_count": 94,
   "id": "a9cd1098",
   "metadata": {},
   "outputs": [
    {
     "name": "stdout",
     "output_type": "stream",
     "text": [
      "0.9332222174879025 121\n"
     ]
    },
    {
     "data": {
      "image/png": "[encoded data removed]",
      "text/plain": [
       "<Figure size 1440x360 with 1 Axes>"
      ]
     },
     "metadata": {},
     "output_type": "display_data"
    }
   ],
   "source": [
    "score_l=[]\n",
    "for i in range(0,200,10):\n",
    "    rfc = RandomForestClassifier(n_estimators=i+1,\n",
    "                                n_jobs=-1,\n",
    "                                random_state=90)\n",
    "    score = cross_val_score(rfc,X,y,cv=5).mean()\n",
    "    score_l.append(score)\n",
    "print(max(score_l),(score_l.index(max(score_l))*10)+1)\n",
    "plt.figure(figsize=[20,5])\n",
    "plt.plot(range(1,201,10),score_l)\n",
    "plt.show()"
   ]
  },
  {
   "cell_type": "markdown",
   "id": "c8404390",
   "metadata": {},
   "source": []
  },
  {
   "cell_type": "code",
   "execution_count": 96,
   "id": "a26cea82",
   "metadata": {},
   "outputs": [
    {
     "name": "stdout",
     "output_type": "stream",
     "text": [
      "0.9992949135599725\n",
      "0.9323658562707507\n"
     ]
    }
   ],
   "source": [
    "rfc = RandomForestClassifier().fit(X_train, y_train)\n",
    "print(rfc.score(X_train, y_train))\n",
    "print(rfc.score(X_valid, y_valid))"
   ]
  },
  {
   "cell_type": "code",
   "execution_count": 104,
   "id": "f47e5706",
   "metadata": {},
   "outputs": [
    {
     "name": "stdout",
     "output_type": "stream",
     "text": [
      "0.9359733890746498 10\n"
     ]
    },
    {
     "data": {
      "image/png": "[encoded data removed]",
      "text/plain": [
       "<Figure size 1440x360 with 1 Axes>"
      ]
     },
     "metadata": {},
     "output_type": "display_data"
    }
   ],
   "source": [
    "scorel = []\n",
    "for i in range(4,12):\n",
    "    rfc = RandomForestClassifier(n_estimators=65\n",
    "                                 ,n_jobs=-1\n",
    "                                 ,max_depth=i\n",
    "                                 ,random_state=90)\n",
    "    score = cross_val_score(rfc,X,y,cv=5).mean()\n",
    "    scorel.append(score)\n",
    "print(max(scorel),([*range(4,12)][scorel.index(max(scorel))]))\n",
    "plt.figure(figsize=[20,5])\n",
    "plt.plot(range(4,12),scorel)\n",
    "plt.show()"
   ]
  },
  {
   "cell_type": "markdown",
   "id": "b8b848b9",
   "metadata": {},
   "source": [
    "#### Get Prediction score"
   ]
  },
  {
   "cell_type": "code",
   "execution_count": 120,
   "id": "e47bd82f",
   "metadata": {},
   "outputs": [
    {
     "name": "stdout",
     "output_type": "stream",
     "text": [
      "0.9421025856144516\n",
      "0.935204026989397\n"
     ]
    }
   ],
   "source": [
    "rfc = RandomForestClassifier(n_estimators=800\n",
    "                                 ,n_jobs=-1\n",
    "                                 ,max_depth=10).fit(X_train, y_train)\n",
    "print(rfc.score(X_train, y_train))\n",
    "print(rfc.score(X_valid, y_valid))"
   ]
  },
  {
   "cell_type": "code",
   "execution_count": 121,
   "id": "a24d04fe",
   "metadata": {},
   "outputs": [
    {
     "data": {
      "text/plain": [
       "array([0.30804147, 0.43473917, 0.03049851, 0.02156154, 0.07782595,\n",
       "       0.06337026, 0.00665507, 0.00496546, 0.00472757, 0.01071924,\n",
       "       0.00972349, 0.00483939, 0.00436287, 0.00533811, 0.00567672,\n",
       "       0.00695516])"
      ]
     },
     "execution_count": 121,
     "metadata": {},
     "output_type": "execute_result"
    }
   ],
   "source": [
    "rfc.feature_importances_"
   ]
  },
  {
   "cell_type": "code",
   "execution_count": 123,
   "id": "eebeefef",
   "metadata": {},
   "outputs": [
    {
     "data": {
      "text/plain": [
       "16"
      ]
     },
     "execution_count": 123,
     "metadata": {},
     "output_type": "execute_result"
    }
   ],
   "source": [
    "rfc.n_features_in_"
   ]
  },
  {
   "cell_type": "code",
   "execution_count": null,
   "id": "ae3d606c",
   "metadata": {},
   "outputs": [],
   "source": []
  },
  {
   "cell_type": "code",
   "execution_count": null,
   "id": "3caaa772",
   "metadata": {},
   "outputs": [],
   "source": []
  }
 ],
 "metadata": {
  "kernelspec": {
   "display_name": "Python 3 (ipykernel)",
   "language": "python",
   "name": "python3"
  },
  "language_info": {
   "codemirror_mode": {
    "name": "ipython",
    "version": 3
   },
   "file_extension": ".py",
   "mimetype": "text/x-python",
   "name": "python",
   "nbconvert_exporter": "python",
   "pygments_lexer": "ipython3",
   "version": "3.9.7"
  },
  "toc": {
   "base_numbering": "1",
   "nav_menu": {},
   "number_sections": true,
   "sideBar": true,
   "skip_h1_title": false,
   "title_cell": "Table of Contents",
   "title_sidebar": "Contents",
   "toc_cell": false,
   "toc_position": {
    "height": "calc(100% - 180px)",
    "left": "10px",
    "top": "150px",
    "width": "356.364px"
   },
   "toc_section_display": true,
   "toc_window_display": true
  }
 },
 "nbformat": 4,
 "nbformat_minor": 5
}
